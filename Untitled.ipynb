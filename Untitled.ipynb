{
 "cells": [
  {
   "cell_type": "code",
   "execution_count": 1,
   "id": "1c86e28f",
   "metadata": {},
   "outputs": [],
   "source": [
    "import pandas as pd"
   ]
  },
  {
   "cell_type": "code",
   "execution_count": 2,
   "id": "d1db9efb",
   "metadata": {},
   "outputs": [],
   "source": [
    "test = pd.Series([1,1,2,2,4,4,6,6,8,8,8,9,9,10,20])"
   ]
  },
  {
   "cell_type": "code",
   "execution_count": 4,
   "id": "ddb566d5",
   "metadata": {},
   "outputs": [
    {
     "data": {
      "text/plain": [
       "0      low\n",
       "1      low\n",
       "2      low\n",
       "3      low\n",
       "4      low\n",
       "5      low\n",
       "6      low\n",
       "7      low\n",
       "8      med\n",
       "9      med\n",
       "10     med\n",
       "11     med\n",
       "12     med\n",
       "13     med\n",
       "14    high\n",
       "dtype: category\n",
       "Categories (3, object): ['low' < 'med' < 'high']"
      ]
     },
     "execution_count": 4,
     "metadata": {},
     "output_type": "execute_result"
    }
   ],
   "source": [
    "labels = ['low', 'med', 'high']\n",
    "\n",
    "pd.cut(test, bins=3, labels=labels)"
   ]
  },
  {
   "cell_type": "code",
   "execution_count": null,
   "id": "8aee9ac9",
   "metadata": {},
   "outputs": [],
   "source": []
  }
 ],
 "metadata": {
  "kernelspec": {
   "display_name": "Python 3",
   "language": "python",
   "name": "python3"
  },
  "language_info": {
   "codemirror_mode": {
    "name": "ipython",
    "version": 3
   },
   "file_extension": ".py",
   "mimetype": "text/x-python",
   "name": "python",
   "nbconvert_exporter": "python",
   "pygments_lexer": "ipython3",
   "version": "3.8.8"
  }
 },
 "nbformat": 4,
 "nbformat_minor": 5
}
