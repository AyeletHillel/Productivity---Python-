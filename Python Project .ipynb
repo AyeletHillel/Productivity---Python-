{
 "cells": [
  {
   "cell_type": "code",
   "execution_count": 1,
   "id": "7922cf12",
   "metadata": {},
   "outputs": [],
   "source": [
    "import pandas as pd\n",
    "import numpy as np\n",
    "from matplotlib import pyplot as plt\n",
    "import seaborn as sns\n",
    "%matplotlib inline\n",
    "import scipy.stats as stats\n",
    "from scipy.stats import bartlett\n",
    "import os\n",
    "import random\n",
    "import statsmodels.api as sm\n",
    "import statsmodels.stats.multicomp\n",
    "from statsmodels.stats.anova import anova_lm"
   ]
  },
  {
   "cell_type": "code",
   "execution_count": 2,
   "id": "893516e9",
   "metadata": {},
   "outputs": [],
   "source": [
    "#Importing the data\n",
    "data = pd.read_csv('Wellbeing_and_lifestyle_data_Kaggle.csv')"
   ]
  },
  {
   "cell_type": "code",
   "execution_count": 3,
   "id": "4e76dcb6",
   "metadata": {},
   "outputs": [
    {
     "data": {
      "text/html": [
       "<div>\n",
       "<style scoped>\n",
       "    .dataframe tbody tr th:only-of-type {\n",
       "        vertical-align: middle;\n",
       "    }\n",
       "\n",
       "    .dataframe tbody tr th {\n",
       "        vertical-align: top;\n",
       "    }\n",
       "\n",
       "    .dataframe thead th {\n",
       "        text-align: right;\n",
       "    }\n",
       "</style>\n",
       "<table border=\"1\" class=\"dataframe\">\n",
       "  <thead>\n",
       "    <tr style=\"text-align: right;\">\n",
       "      <th></th>\n",
       "      <th>Timestamp</th>\n",
       "      <th>FRUITS_VEGGIES</th>\n",
       "      <th>DAILY_STRESS</th>\n",
       "      <th>PLACES_VISITED</th>\n",
       "      <th>CORE_CIRCLE</th>\n",
       "      <th>SUPPORTING_OTHERS</th>\n",
       "      <th>SOCIAL_NETWORK</th>\n",
       "      <th>ACHIEVEMENT</th>\n",
       "      <th>DONATION</th>\n",
       "      <th>BMI_RANGE</th>\n",
       "      <th>...</th>\n",
       "      <th>SLEEP_HOURS</th>\n",
       "      <th>LOST_VACATION</th>\n",
       "      <th>DAILY_SHOUTING</th>\n",
       "      <th>SUFFICIENT_INCOME</th>\n",
       "      <th>PERSONAL_AWARDS</th>\n",
       "      <th>TIME_FOR_PASSION</th>\n",
       "      <th>WEEKLY_MEDITATION</th>\n",
       "      <th>AGE</th>\n",
       "      <th>GENDER</th>\n",
       "      <th>WORK_LIFE_BALANCE_SCORE</th>\n",
       "    </tr>\n",
       "  </thead>\n",
       "  <tbody>\n",
       "    <tr>\n",
       "      <th>0</th>\n",
       "      <td>7/7/15</td>\n",
       "      <td>3</td>\n",
       "      <td>2</td>\n",
       "      <td>2</td>\n",
       "      <td>5</td>\n",
       "      <td>0</td>\n",
       "      <td>5</td>\n",
       "      <td>2</td>\n",
       "      <td>0</td>\n",
       "      <td>1</td>\n",
       "      <td>...</td>\n",
       "      <td>7</td>\n",
       "      <td>5</td>\n",
       "      <td>5</td>\n",
       "      <td>1</td>\n",
       "      <td>4</td>\n",
       "      <td>0</td>\n",
       "      <td>5</td>\n",
       "      <td>36 to 50</td>\n",
       "      <td>Female</td>\n",
       "      <td>609.5</td>\n",
       "    </tr>\n",
       "    <tr>\n",
       "      <th>1</th>\n",
       "      <td>7/7/15</td>\n",
       "      <td>2</td>\n",
       "      <td>3</td>\n",
       "      <td>4</td>\n",
       "      <td>3</td>\n",
       "      <td>8</td>\n",
       "      <td>10</td>\n",
       "      <td>5</td>\n",
       "      <td>2</td>\n",
       "      <td>2</td>\n",
       "      <td>...</td>\n",
       "      <td>8</td>\n",
       "      <td>2</td>\n",
       "      <td>2</td>\n",
       "      <td>2</td>\n",
       "      <td>3</td>\n",
       "      <td>2</td>\n",
       "      <td>6</td>\n",
       "      <td>36 to 50</td>\n",
       "      <td>Female</td>\n",
       "      <td>655.6</td>\n",
       "    </tr>\n",
       "    <tr>\n",
       "      <th>2</th>\n",
       "      <td>7/7/15</td>\n",
       "      <td>2</td>\n",
       "      <td>3</td>\n",
       "      <td>3</td>\n",
       "      <td>4</td>\n",
       "      <td>4</td>\n",
       "      <td>10</td>\n",
       "      <td>3</td>\n",
       "      <td>2</td>\n",
       "      <td>2</td>\n",
       "      <td>...</td>\n",
       "      <td>8</td>\n",
       "      <td>10</td>\n",
       "      <td>2</td>\n",
       "      <td>2</td>\n",
       "      <td>4</td>\n",
       "      <td>8</td>\n",
       "      <td>3</td>\n",
       "      <td>36 to 50</td>\n",
       "      <td>Female</td>\n",
       "      <td>631.6</td>\n",
       "    </tr>\n",
       "    <tr>\n",
       "      <th>3</th>\n",
       "      <td>7/7/15</td>\n",
       "      <td>3</td>\n",
       "      <td>3</td>\n",
       "      <td>10</td>\n",
       "      <td>3</td>\n",
       "      <td>10</td>\n",
       "      <td>7</td>\n",
       "      <td>2</td>\n",
       "      <td>5</td>\n",
       "      <td>2</td>\n",
       "      <td>...</td>\n",
       "      <td>5</td>\n",
       "      <td>7</td>\n",
       "      <td>5</td>\n",
       "      <td>1</td>\n",
       "      <td>5</td>\n",
       "      <td>2</td>\n",
       "      <td>0</td>\n",
       "      <td>51 or more</td>\n",
       "      <td>Female</td>\n",
       "      <td>622.7</td>\n",
       "    </tr>\n",
       "    <tr>\n",
       "      <th>4</th>\n",
       "      <td>7/7/15</td>\n",
       "      <td>5</td>\n",
       "      <td>1</td>\n",
       "      <td>3</td>\n",
       "      <td>3</td>\n",
       "      <td>10</td>\n",
       "      <td>4</td>\n",
       "      <td>2</td>\n",
       "      <td>4</td>\n",
       "      <td>2</td>\n",
       "      <td>...</td>\n",
       "      <td>7</td>\n",
       "      <td>0</td>\n",
       "      <td>0</td>\n",
       "      <td>2</td>\n",
       "      <td>8</td>\n",
       "      <td>1</td>\n",
       "      <td>5</td>\n",
       "      <td>51 or more</td>\n",
       "      <td>Female</td>\n",
       "      <td>663.9</td>\n",
       "    </tr>\n",
       "  </tbody>\n",
       "</table>\n",
       "<p>5 rows × 24 columns</p>\n",
       "</div>"
      ],
      "text/plain": [
       "  Timestamp  FRUITS_VEGGIES DAILY_STRESS  PLACES_VISITED  CORE_CIRCLE  \\\n",
       "0    7/7/15               3            2               2            5   \n",
       "1    7/7/15               2            3               4            3   \n",
       "2    7/7/15               2            3               3            4   \n",
       "3    7/7/15               3            3              10            3   \n",
       "4    7/7/15               5            1               3            3   \n",
       "\n",
       "   SUPPORTING_OTHERS  SOCIAL_NETWORK  ACHIEVEMENT  DONATION  BMI_RANGE  ...  \\\n",
       "0                  0               5            2         0          1  ...   \n",
       "1                  8              10            5         2          2  ...   \n",
       "2                  4              10            3         2          2  ...   \n",
       "3                 10               7            2         5          2  ...   \n",
       "4                 10               4            2         4          2  ...   \n",
       "\n",
       "   SLEEP_HOURS  LOST_VACATION  DAILY_SHOUTING  SUFFICIENT_INCOME  \\\n",
       "0            7              5               5                  1   \n",
       "1            8              2               2                  2   \n",
       "2            8             10               2                  2   \n",
       "3            5              7               5                  1   \n",
       "4            7              0               0                  2   \n",
       "\n",
       "   PERSONAL_AWARDS  TIME_FOR_PASSION  WEEKLY_MEDITATION         AGE  GENDER  \\\n",
       "0                4                 0                  5    36 to 50  Female   \n",
       "1                3                 2                  6    36 to 50  Female   \n",
       "2                4                 8                  3    36 to 50  Female   \n",
       "3                5                 2                  0  51 or more  Female   \n",
       "4                8                 1                  5  51 or more  Female   \n",
       "\n",
       "   WORK_LIFE_BALANCE_SCORE  \n",
       "0                    609.5  \n",
       "1                    655.6  \n",
       "2                    631.6  \n",
       "3                    622.7  \n",
       "4                    663.9  \n",
       "\n",
       "[5 rows x 24 columns]"
      ]
     },
     "execution_count": 3,
     "metadata": {},
     "output_type": "execute_result"
    }
   ],
   "source": [
    "#Exploring the data\n",
    "data.head(5)"
   ]
  },
  {
   "cell_type": "code",
   "execution_count": 4,
   "id": "fc266edc",
   "metadata": {},
   "outputs": [
    {
     "data": {
      "text/html": [
       "<div>\n",
       "<style scoped>\n",
       "    .dataframe tbody tr th:only-of-type {\n",
       "        vertical-align: middle;\n",
       "    }\n",
       "\n",
       "    .dataframe tbody tr th {\n",
       "        vertical-align: top;\n",
       "    }\n",
       "\n",
       "    .dataframe thead th {\n",
       "        text-align: right;\n",
       "    }\n",
       "</style>\n",
       "<table border=\"1\" class=\"dataframe\">\n",
       "  <thead>\n",
       "    <tr style=\"text-align: right;\">\n",
       "      <th></th>\n",
       "      <th>FRUITS_VEGGIES</th>\n",
       "      <th>PLACES_VISITED</th>\n",
       "      <th>CORE_CIRCLE</th>\n",
       "      <th>SUPPORTING_OTHERS</th>\n",
       "      <th>SOCIAL_NETWORK</th>\n",
       "      <th>ACHIEVEMENT</th>\n",
       "      <th>DONATION</th>\n",
       "      <th>BMI_RANGE</th>\n",
       "      <th>TODO_COMPLETED</th>\n",
       "      <th>FLOW</th>\n",
       "      <th>DAILY_STEPS</th>\n",
       "      <th>LIVE_VISION</th>\n",
       "      <th>SLEEP_HOURS</th>\n",
       "      <th>LOST_VACATION</th>\n",
       "      <th>DAILY_SHOUTING</th>\n",
       "      <th>SUFFICIENT_INCOME</th>\n",
       "      <th>PERSONAL_AWARDS</th>\n",
       "      <th>TIME_FOR_PASSION</th>\n",
       "      <th>WEEKLY_MEDITATION</th>\n",
       "      <th>WORK_LIFE_BALANCE_SCORE</th>\n",
       "    </tr>\n",
       "  </thead>\n",
       "  <tbody>\n",
       "    <tr>\n",
       "      <th>count</th>\n",
       "      <td>15972.000000</td>\n",
       "      <td>15972.000000</td>\n",
       "      <td>15972.000000</td>\n",
       "      <td>15972.000000</td>\n",
       "      <td>15972.000000</td>\n",
       "      <td>15972.000000</td>\n",
       "      <td>15972.000000</td>\n",
       "      <td>15972.000000</td>\n",
       "      <td>15972.000000</td>\n",
       "      <td>15972.000000</td>\n",
       "      <td>15972.000000</td>\n",
       "      <td>15972.000000</td>\n",
       "      <td>15972.000000</td>\n",
       "      <td>15972.000000</td>\n",
       "      <td>15972.000000</td>\n",
       "      <td>15972.000000</td>\n",
       "      <td>15972.000000</td>\n",
       "      <td>15972.000000</td>\n",
       "      <td>15972.000000</td>\n",
       "      <td>15972.000000</td>\n",
       "    </tr>\n",
       "    <tr>\n",
       "      <th>mean</th>\n",
       "      <td>2.922677</td>\n",
       "      <td>5.232970</td>\n",
       "      <td>5.508077</td>\n",
       "      <td>5.616454</td>\n",
       "      <td>6.474267</td>\n",
       "      <td>4.000751</td>\n",
       "      <td>2.715314</td>\n",
       "      <td>1.410656</td>\n",
       "      <td>5.745993</td>\n",
       "      <td>3.194778</td>\n",
       "      <td>5.703606</td>\n",
       "      <td>3.752129</td>\n",
       "      <td>7.042888</td>\n",
       "      <td>2.898886</td>\n",
       "      <td>2.930879</td>\n",
       "      <td>1.728963</td>\n",
       "      <td>5.711558</td>\n",
       "      <td>3.326572</td>\n",
       "      <td>6.233346</td>\n",
       "      <td>666.751503</td>\n",
       "    </tr>\n",
       "    <tr>\n",
       "      <th>std</th>\n",
       "      <td>1.442694</td>\n",
       "      <td>3.311912</td>\n",
       "      <td>2.840334</td>\n",
       "      <td>3.242021</td>\n",
       "      <td>3.086672</td>\n",
       "      <td>2.755837</td>\n",
       "      <td>1.851586</td>\n",
       "      <td>0.491968</td>\n",
       "      <td>2.624097</td>\n",
       "      <td>2.357518</td>\n",
       "      <td>2.891013</td>\n",
       "      <td>3.230987</td>\n",
       "      <td>1.199044</td>\n",
       "      <td>3.692180</td>\n",
       "      <td>2.676301</td>\n",
       "      <td>0.444509</td>\n",
       "      <td>3.089630</td>\n",
       "      <td>2.729293</td>\n",
       "      <td>3.016571</td>\n",
       "      <td>45.019868</td>\n",
       "    </tr>\n",
       "    <tr>\n",
       "      <th>min</th>\n",
       "      <td>0.000000</td>\n",
       "      <td>0.000000</td>\n",
       "      <td>0.000000</td>\n",
       "      <td>0.000000</td>\n",
       "      <td>0.000000</td>\n",
       "      <td>0.000000</td>\n",
       "      <td>0.000000</td>\n",
       "      <td>1.000000</td>\n",
       "      <td>0.000000</td>\n",
       "      <td>0.000000</td>\n",
       "      <td>1.000000</td>\n",
       "      <td>0.000000</td>\n",
       "      <td>1.000000</td>\n",
       "      <td>0.000000</td>\n",
       "      <td>0.000000</td>\n",
       "      <td>1.000000</td>\n",
       "      <td>0.000000</td>\n",
       "      <td>0.000000</td>\n",
       "      <td>0.000000</td>\n",
       "      <td>480.000000</td>\n",
       "    </tr>\n",
       "    <tr>\n",
       "      <th>25%</th>\n",
       "      <td>2.000000</td>\n",
       "      <td>2.000000</td>\n",
       "      <td>3.000000</td>\n",
       "      <td>3.000000</td>\n",
       "      <td>4.000000</td>\n",
       "      <td>2.000000</td>\n",
       "      <td>1.000000</td>\n",
       "      <td>1.000000</td>\n",
       "      <td>4.000000</td>\n",
       "      <td>1.000000</td>\n",
       "      <td>3.000000</td>\n",
       "      <td>1.000000</td>\n",
       "      <td>6.000000</td>\n",
       "      <td>0.000000</td>\n",
       "      <td>1.000000</td>\n",
       "      <td>1.000000</td>\n",
       "      <td>3.000000</td>\n",
       "      <td>1.000000</td>\n",
       "      <td>4.000000</td>\n",
       "      <td>636.000000</td>\n",
       "    </tr>\n",
       "    <tr>\n",
       "      <th>50%</th>\n",
       "      <td>3.000000</td>\n",
       "      <td>5.000000</td>\n",
       "      <td>5.000000</td>\n",
       "      <td>5.000000</td>\n",
       "      <td>6.000000</td>\n",
       "      <td>3.000000</td>\n",
       "      <td>3.000000</td>\n",
       "      <td>1.000000</td>\n",
       "      <td>6.000000</td>\n",
       "      <td>3.000000</td>\n",
       "      <td>5.000000</td>\n",
       "      <td>3.000000</td>\n",
       "      <td>7.000000</td>\n",
       "      <td>0.000000</td>\n",
       "      <td>2.000000</td>\n",
       "      <td>2.000000</td>\n",
       "      <td>5.000000</td>\n",
       "      <td>3.000000</td>\n",
       "      <td>7.000000</td>\n",
       "      <td>667.700000</td>\n",
       "    </tr>\n",
       "    <tr>\n",
       "      <th>75%</th>\n",
       "      <td>4.000000</td>\n",
       "      <td>8.000000</td>\n",
       "      <td>8.000000</td>\n",
       "      <td>10.000000</td>\n",
       "      <td>10.000000</td>\n",
       "      <td>6.000000</td>\n",
       "      <td>5.000000</td>\n",
       "      <td>2.000000</td>\n",
       "      <td>8.000000</td>\n",
       "      <td>5.000000</td>\n",
       "      <td>8.000000</td>\n",
       "      <td>5.000000</td>\n",
       "      <td>8.000000</td>\n",
       "      <td>5.000000</td>\n",
       "      <td>4.000000</td>\n",
       "      <td>2.000000</td>\n",
       "      <td>9.000000</td>\n",
       "      <td>5.000000</td>\n",
       "      <td>10.000000</td>\n",
       "      <td>698.500000</td>\n",
       "    </tr>\n",
       "    <tr>\n",
       "      <th>max</th>\n",
       "      <td>5.000000</td>\n",
       "      <td>10.000000</td>\n",
       "      <td>10.000000</td>\n",
       "      <td>10.000000</td>\n",
       "      <td>10.000000</td>\n",
       "      <td>10.000000</td>\n",
       "      <td>5.000000</td>\n",
       "      <td>2.000000</td>\n",
       "      <td>10.000000</td>\n",
       "      <td>10.000000</td>\n",
       "      <td>10.000000</td>\n",
       "      <td>10.000000</td>\n",
       "      <td>10.000000</td>\n",
       "      <td>10.000000</td>\n",
       "      <td>10.000000</td>\n",
       "      <td>2.000000</td>\n",
       "      <td>10.000000</td>\n",
       "      <td>10.000000</td>\n",
       "      <td>10.000000</td>\n",
       "      <td>820.200000</td>\n",
       "    </tr>\n",
       "  </tbody>\n",
       "</table>\n",
       "</div>"
      ],
      "text/plain": [
       "       FRUITS_VEGGIES  PLACES_VISITED   CORE_CIRCLE  SUPPORTING_OTHERS  \\\n",
       "count    15972.000000    15972.000000  15972.000000       15972.000000   \n",
       "mean         2.922677        5.232970      5.508077           5.616454   \n",
       "std          1.442694        3.311912      2.840334           3.242021   \n",
       "min          0.000000        0.000000      0.000000           0.000000   \n",
       "25%          2.000000        2.000000      3.000000           3.000000   \n",
       "50%          3.000000        5.000000      5.000000           5.000000   \n",
       "75%          4.000000        8.000000      8.000000          10.000000   \n",
       "max          5.000000       10.000000     10.000000          10.000000   \n",
       "\n",
       "       SOCIAL_NETWORK   ACHIEVEMENT      DONATION     BMI_RANGE  \\\n",
       "count    15972.000000  15972.000000  15972.000000  15972.000000   \n",
       "mean         6.474267      4.000751      2.715314      1.410656   \n",
       "std          3.086672      2.755837      1.851586      0.491968   \n",
       "min          0.000000      0.000000      0.000000      1.000000   \n",
       "25%          4.000000      2.000000      1.000000      1.000000   \n",
       "50%          6.000000      3.000000      3.000000      1.000000   \n",
       "75%         10.000000      6.000000      5.000000      2.000000   \n",
       "max         10.000000     10.000000      5.000000      2.000000   \n",
       "\n",
       "       TODO_COMPLETED          FLOW   DAILY_STEPS   LIVE_VISION   SLEEP_HOURS  \\\n",
       "count    15972.000000  15972.000000  15972.000000  15972.000000  15972.000000   \n",
       "mean         5.745993      3.194778      5.703606      3.752129      7.042888   \n",
       "std          2.624097      2.357518      2.891013      3.230987      1.199044   \n",
       "min          0.000000      0.000000      1.000000      0.000000      1.000000   \n",
       "25%          4.000000      1.000000      3.000000      1.000000      6.000000   \n",
       "50%          6.000000      3.000000      5.000000      3.000000      7.000000   \n",
       "75%          8.000000      5.000000      8.000000      5.000000      8.000000   \n",
       "max         10.000000     10.000000     10.000000     10.000000     10.000000   \n",
       "\n",
       "       LOST_VACATION  DAILY_SHOUTING  SUFFICIENT_INCOME  PERSONAL_AWARDS  \\\n",
       "count   15972.000000    15972.000000       15972.000000     15972.000000   \n",
       "mean        2.898886        2.930879           1.728963         5.711558   \n",
       "std         3.692180        2.676301           0.444509         3.089630   \n",
       "min         0.000000        0.000000           1.000000         0.000000   \n",
       "25%         0.000000        1.000000           1.000000         3.000000   \n",
       "50%         0.000000        2.000000           2.000000         5.000000   \n",
       "75%         5.000000        4.000000           2.000000         9.000000   \n",
       "max        10.000000       10.000000           2.000000        10.000000   \n",
       "\n",
       "       TIME_FOR_PASSION  WEEKLY_MEDITATION  WORK_LIFE_BALANCE_SCORE  \n",
       "count      15972.000000       15972.000000             15972.000000  \n",
       "mean           3.326572           6.233346               666.751503  \n",
       "std            2.729293           3.016571                45.019868  \n",
       "min            0.000000           0.000000               480.000000  \n",
       "25%            1.000000           4.000000               636.000000  \n",
       "50%            3.000000           7.000000               667.700000  \n",
       "75%            5.000000          10.000000               698.500000  \n",
       "max           10.000000          10.000000               820.200000  "
      ]
     },
     "execution_count": 4,
     "metadata": {},
     "output_type": "execute_result"
    }
   ],
   "source": [
    "data.describe()"
   ]
  },
  {
   "cell_type": "code",
   "execution_count": 31,
   "id": "540e07b5",
   "metadata": {},
   "outputs": [
    {
     "data": {
      "text/html": [
       "<div>\n",
       "<style scoped>\n",
       "    .dataframe tbody tr th:only-of-type {\n",
       "        vertical-align: middle;\n",
       "    }\n",
       "\n",
       "    .dataframe tbody tr th {\n",
       "        vertical-align: top;\n",
       "    }\n",
       "\n",
       "    .dataframe thead th {\n",
       "        text-align: right;\n",
       "    }\n",
       "</style>\n",
       "<table border=\"1\" class=\"dataframe\">\n",
       "  <thead>\n",
       "    <tr style=\"text-align: right;\">\n",
       "      <th></th>\n",
       "      <th>FRUITS_VEGGIES</th>\n",
       "      <th>PLACES_VISITED</th>\n",
       "      <th>CORE_CIRCLE</th>\n",
       "      <th>SUPPORTING_OTHERS</th>\n",
       "      <th>SOCIAL_NETWORK</th>\n",
       "      <th>ACHIEVEMENT</th>\n",
       "      <th>DONATION</th>\n",
       "      <th>BMI_RANGE</th>\n",
       "      <th>TODO_COMPLETED</th>\n",
       "      <th>FLOW</th>\n",
       "      <th>...</th>\n",
       "      <th>DAILY_SHOUTING</th>\n",
       "      <th>SUFFICIENT_INCOME</th>\n",
       "      <th>PERSONAL_AWARDS</th>\n",
       "      <th>TIME_FOR_PASSION</th>\n",
       "      <th>WEEKLY_MEDITATION</th>\n",
       "      <th>WORK_LIFE_BALANCE_SCORE</th>\n",
       "      <th>Productivity</th>\n",
       "      <th>Social Connection</th>\n",
       "      <th>Meaning</th>\n",
       "      <th>Achievement</th>\n",
       "    </tr>\n",
       "    <tr>\n",
       "      <th>Timestamp</th>\n",
       "      <th></th>\n",
       "      <th></th>\n",
       "      <th></th>\n",
       "      <th></th>\n",
       "      <th></th>\n",
       "      <th></th>\n",
       "      <th></th>\n",
       "      <th></th>\n",
       "      <th></th>\n",
       "      <th></th>\n",
       "      <th></th>\n",
       "      <th></th>\n",
       "      <th></th>\n",
       "      <th></th>\n",
       "      <th></th>\n",
       "      <th></th>\n",
       "      <th></th>\n",
       "      <th></th>\n",
       "      <th></th>\n",
       "      <th></th>\n",
       "      <th></th>\n",
       "    </tr>\n",
       "  </thead>\n",
       "  <tbody>\n",
       "    <tr>\n",
       "      <th>2015-12-31</th>\n",
       "      <td>3.041729</td>\n",
       "      <td>5.506706</td>\n",
       "      <td>5.591157</td>\n",
       "      <td>5.633383</td>\n",
       "      <td>6.560358</td>\n",
       "      <td>4.097367</td>\n",
       "      <td>2.586190</td>\n",
       "      <td>1.386488</td>\n",
       "      <td>5.843517</td>\n",
       "      <td>3.177347</td>\n",
       "      <td>...</td>\n",
       "      <td>2.920020</td>\n",
       "      <td>1.721808</td>\n",
       "      <td>5.969697</td>\n",
       "      <td>3.319424</td>\n",
       "      <td>6.406359</td>\n",
       "      <td>668.922901</td>\n",
       "      <td>4.510432</td>\n",
       "      <td>6.075758</td>\n",
       "      <td>5.402881</td>\n",
       "      <td>5.033532</td>\n",
       "    </tr>\n",
       "    <tr>\n",
       "      <th>2016-12-31</th>\n",
       "      <td>2.844351</td>\n",
       "      <td>5.140024</td>\n",
       "      <td>5.308293</td>\n",
       "      <td>5.403546</td>\n",
       "      <td>6.483474</td>\n",
       "      <td>3.855168</td>\n",
       "      <td>2.693810</td>\n",
       "      <td>1.383113</td>\n",
       "      <td>5.520433</td>\n",
       "      <td>3.021334</td>\n",
       "      <td>...</td>\n",
       "      <td>2.995493</td>\n",
       "      <td>1.705228</td>\n",
       "      <td>5.597656</td>\n",
       "      <td>3.158353</td>\n",
       "      <td>6.242188</td>\n",
       "      <td>663.594712</td>\n",
       "      <td>4.270883</td>\n",
       "      <td>5.895883</td>\n",
       "      <td>5.395583</td>\n",
       "      <td>4.726412</td>\n",
       "    </tr>\n",
       "    <tr>\n",
       "      <th>2017-12-31</th>\n",
       "      <td>2.914410</td>\n",
       "      <td>5.292524</td>\n",
       "      <td>5.496569</td>\n",
       "      <td>5.666667</td>\n",
       "      <td>6.543156</td>\n",
       "      <td>3.946912</td>\n",
       "      <td>2.719032</td>\n",
       "      <td>1.413146</td>\n",
       "      <td>5.706031</td>\n",
       "      <td>3.114843</td>\n",
       "      <td>...</td>\n",
       "      <td>2.924883</td>\n",
       "      <td>1.734922</td>\n",
       "      <td>5.709281</td>\n",
       "      <td>3.280246</td>\n",
       "      <td>6.263994</td>\n",
       "      <td>666.735283</td>\n",
       "      <td>4.410437</td>\n",
       "      <td>6.019863</td>\n",
       "      <td>5.552365</td>\n",
       "      <td>4.828097</td>\n",
       "    </tr>\n",
       "    <tr>\n",
       "      <th>2018-12-31</th>\n",
       "      <td>3.069215</td>\n",
       "      <td>5.601240</td>\n",
       "      <td>5.662707</td>\n",
       "      <td>5.787190</td>\n",
       "      <td>6.823864</td>\n",
       "      <td>4.054236</td>\n",
       "      <td>2.774277</td>\n",
       "      <td>1.399793</td>\n",
       "      <td>5.844008</td>\n",
       "      <td>3.192665</td>\n",
       "      <td>...</td>\n",
       "      <td>2.809401</td>\n",
       "      <td>1.764463</td>\n",
       "      <td>5.791839</td>\n",
       "      <td>3.310434</td>\n",
       "      <td>6.225207</td>\n",
       "      <td>671.728409</td>\n",
       "      <td>4.518337</td>\n",
       "      <td>6.243285</td>\n",
       "      <td>5.667872</td>\n",
       "      <td>4.923037</td>\n",
       "    </tr>\n",
       "    <tr>\n",
       "      <th>2019-12-31</th>\n",
       "      <td>2.866282</td>\n",
       "      <td>5.211462</td>\n",
       "      <td>5.376277</td>\n",
       "      <td>5.474012</td>\n",
       "      <td>6.362950</td>\n",
       "      <td>3.893381</td>\n",
       "      <td>2.721901</td>\n",
       "      <td>1.426477</td>\n",
       "      <td>5.680586</td>\n",
       "      <td>3.131053</td>\n",
       "      <td>...</td>\n",
       "      <td>2.899600</td>\n",
       "      <td>1.733452</td>\n",
       "      <td>5.515771</td>\n",
       "      <td>3.250111</td>\n",
       "      <td>6.192359</td>\n",
       "      <td>664.533585</td>\n",
       "      <td>4.405820</td>\n",
       "      <td>5.869614</td>\n",
       "      <td>5.458907</td>\n",
       "      <td>4.704576</td>\n",
       "    </tr>\n",
       "    <tr>\n",
       "      <th>2020-12-31</th>\n",
       "      <td>2.890738</td>\n",
       "      <td>4.957627</td>\n",
       "      <td>5.661017</td>\n",
       "      <td>5.728511</td>\n",
       "      <td>6.282082</td>\n",
       "      <td>4.144068</td>\n",
       "      <td>2.740315</td>\n",
       "      <td>1.440981</td>\n",
       "      <td>5.902845</td>\n",
       "      <td>3.457930</td>\n",
       "      <td>...</td>\n",
       "      <td>2.968220</td>\n",
       "      <td>1.722760</td>\n",
       "      <td>5.748487</td>\n",
       "      <td>3.576574</td>\n",
       "      <td>6.135593</td>\n",
       "      <td>667.026423</td>\n",
       "      <td>4.680387</td>\n",
       "      <td>5.971550</td>\n",
       "      <td>5.604570</td>\n",
       "      <td>4.946277</td>\n",
       "    </tr>\n",
       "    <tr>\n",
       "      <th>2021-12-31</th>\n",
       "      <td>2.902965</td>\n",
       "      <td>4.797844</td>\n",
       "      <td>5.566038</td>\n",
       "      <td>6.035040</td>\n",
       "      <td>5.973046</td>\n",
       "      <td>4.280323</td>\n",
       "      <td>3.010782</td>\n",
       "      <td>1.460916</td>\n",
       "      <td>6.026954</td>\n",
       "      <td>3.495957</td>\n",
       "      <td>...</td>\n",
       "      <td>2.946092</td>\n",
       "      <td>1.778976</td>\n",
       "      <td>5.789757</td>\n",
       "      <td>3.541779</td>\n",
       "      <td>6.148248</td>\n",
       "      <td>668.445822</td>\n",
       "      <td>4.761456</td>\n",
       "      <td>5.769542</td>\n",
       "      <td>6.028302</td>\n",
       "      <td>5.035040</td>\n",
       "    </tr>\n",
       "  </tbody>\n",
       "</table>\n",
       "<p>7 rows × 24 columns</p>\n",
       "</div>"
      ],
      "text/plain": [
       "            FRUITS_VEGGIES  PLACES_VISITED  CORE_CIRCLE  SUPPORTING_OTHERS  \\\n",
       "Timestamp                                                                    \n",
       "2015-12-31        3.041729        5.506706     5.591157           5.633383   \n",
       "2016-12-31        2.844351        5.140024     5.308293           5.403546   \n",
       "2017-12-31        2.914410        5.292524     5.496569           5.666667   \n",
       "2018-12-31        3.069215        5.601240     5.662707           5.787190   \n",
       "2019-12-31        2.866282        5.211462     5.376277           5.474012   \n",
       "2020-12-31        2.890738        4.957627     5.661017           5.728511   \n",
       "2021-12-31        2.902965        4.797844     5.566038           6.035040   \n",
       "\n",
       "            SOCIAL_NETWORK  ACHIEVEMENT  DONATION  BMI_RANGE  TODO_COMPLETED  \\\n",
       "Timestamp                                                                      \n",
       "2015-12-31        6.560358     4.097367  2.586190   1.386488        5.843517   \n",
       "2016-12-31        6.483474     3.855168  2.693810   1.383113        5.520433   \n",
       "2017-12-31        6.543156     3.946912  2.719032   1.413146        5.706031   \n",
       "2018-12-31        6.823864     4.054236  2.774277   1.399793        5.844008   \n",
       "2019-12-31        6.362950     3.893381  2.721901   1.426477        5.680586   \n",
       "2020-12-31        6.282082     4.144068  2.740315   1.440981        5.902845   \n",
       "2021-12-31        5.973046     4.280323  3.010782   1.460916        6.026954   \n",
       "\n",
       "                FLOW  ...  DAILY_SHOUTING  SUFFICIENT_INCOME  PERSONAL_AWARDS  \\\n",
       "Timestamp             ...                                                       \n",
       "2015-12-31  3.177347  ...        2.920020           1.721808         5.969697   \n",
       "2016-12-31  3.021334  ...        2.995493           1.705228         5.597656   \n",
       "2017-12-31  3.114843  ...        2.924883           1.734922         5.709281   \n",
       "2018-12-31  3.192665  ...        2.809401           1.764463         5.791839   \n",
       "2019-12-31  3.131053  ...        2.899600           1.733452         5.515771   \n",
       "2020-12-31  3.457930  ...        2.968220           1.722760         5.748487   \n",
       "2021-12-31  3.495957  ...        2.946092           1.778976         5.789757   \n",
       "\n",
       "            TIME_FOR_PASSION  WEEKLY_MEDITATION  WORK_LIFE_BALANCE_SCORE  \\\n",
       "Timestamp                                                                  \n",
       "2015-12-31          3.319424           6.406359               668.922901   \n",
       "2016-12-31          3.158353           6.242188               663.594712   \n",
       "2017-12-31          3.280246           6.263994               666.735283   \n",
       "2018-12-31          3.310434           6.225207               671.728409   \n",
       "2019-12-31          3.250111           6.192359               664.533585   \n",
       "2020-12-31          3.576574           6.135593               667.026423   \n",
       "2021-12-31          3.541779           6.148248               668.445822   \n",
       "\n",
       "            Productivity  Social Connection   Meaning  Achievement  \n",
       "Timestamp                                                           \n",
       "2015-12-31      4.510432           6.075758  5.402881     5.033532  \n",
       "2016-12-31      4.270883           5.895883  5.395583     4.726412  \n",
       "2017-12-31      4.410437           6.019863  5.552365     4.828097  \n",
       "2018-12-31      4.518337           6.243285  5.667872     4.923037  \n",
       "2019-12-31      4.405820           5.869614  5.458907     4.704576  \n",
       "2020-12-31      4.680387           5.971550  5.604570     4.946277  \n",
       "2021-12-31      4.761456           5.769542  6.028302     5.035040  \n",
       "\n",
       "[7 rows x 24 columns]"
      ]
     },
     "execution_count": 31,
     "metadata": {},
     "output_type": "execute_result"
    }
   ],
   "source": [
    "data['Timestamp'] = pd.to_datetime(data['Timestamp'])\n",
    "df1 = data.groupby(pd.Grouper(key='Timestamp', freq=\"Y\")).mean()\n",
    "df1"
   ]
  },
  {
   "cell_type": "code",
   "execution_count": 6,
   "id": "dfdda987",
   "metadata": {},
   "outputs": [],
   "source": [
    "#Creating new variables\n",
    "data['Productivity'] = (data['TODO_COMPLETED'] + data['FLOW'])/2\n",
    "data['Social Connection'] = (data['CORE_CIRCLE'] + data['SOCIAL_NETWORK'])/2\n",
    "data['Meaning'] = (data['SUPPORTING_OTHERS'] + data['DONATION']*2)/2\n",
    "data['Achievement'] = (data['ACHIEVEMENT'] + data['PERSONAL_AWARDS'])/2"
   ]
  },
  {
   "cell_type": "code",
   "execution_count": 7,
   "id": "bcfd0a9c",
   "metadata": {},
   "outputs": [
    {
     "data": {
      "text/plain": [
       "0            Weak\n",
       "1        Ordinary\n",
       "2        Ordinary\n",
       "3          Strong\n",
       "4          Strong\n",
       "           ...   \n",
       "15967    Ordinary\n",
       "15968    Ordinary\n",
       "15969      Strong\n",
       "15970        Weak\n",
       "15971    Ordinary\n",
       "Name: Level of Meaning, Length: 15972, dtype: category\n",
       "Categories (3, object): ['Weak' < 'Ordinary' < 'Strong']"
      ]
     },
     "execution_count": 7,
     "metadata": {},
     "output_type": "execute_result"
    }
   ],
   "source": [
    "#Collapsing the variables into categories for further analysis\n",
    "pd.cut(data['Meaning'], bins=3).value_counts(sort=False)\n",
    "labels = ['Weak', 'Ordinary', 'Strong']\n",
    "data['Level of Meaning'] = pd.cut(data['Meaning'], bins=3, labels=labels)\n",
    "data['Level of Meaning']"
   ]
  },
  {
   "cell_type": "code",
   "execution_count": 42,
   "id": "7eb159e6",
   "metadata": {},
   "outputs": [
    {
     "data": {
      "text/plain": [
       "0        Ordinary\n",
       "1        Ordinary\n",
       "2             Low\n",
       "3        Ordinary\n",
       "4             Low\n",
       "           ...   \n",
       "15967    Ordinary\n",
       "15968    Ordinary\n",
       "15969    Ordinary\n",
       "15970        High\n",
       "15971    Ordinary\n",
       "Name: Level of Productivity, Length: 15972, dtype: category\n",
       "Categories (3, object): ['Low' < 'Ordinary' < 'High']"
      ]
     },
     "execution_count": 42,
     "metadata": {},
     "output_type": "execute_result"
    }
   ],
   "source": [
    "pd.cut(data['Productivity'], bins=3).value_counts(sort=False)\n",
    "labels = ['Low','Ordinary','High']\n",
    "data['Level of Productivity'] = pd.cut(data['Productivity'], bins=3, labels = labels)\n",
    "data['Level of Productivity']"
   ]
  },
  {
   "cell_type": "code",
   "execution_count": 9,
   "id": "87a76a96",
   "metadata": {},
   "outputs": [
    {
     "data": {
      "text/plain": [
       "0             Low\n",
       "1        Ordinary\n",
       "2        Ordinary\n",
       "3        Ordinary\n",
       "4        Ordinary\n",
       "           ...   \n",
       "15967         Low\n",
       "15968        High\n",
       "15969        High\n",
       "15970         Low\n",
       "15971         Low\n",
       "Name: Level of Achievement, Length: 15972, dtype: category\n",
       "Categories (3, object): ['Low' < 'Ordinary' < 'High']"
      ]
     },
     "execution_count": 9,
     "metadata": {},
     "output_type": "execute_result"
    }
   ],
   "source": [
    "pd.cut(data['Achievement'], bins=3).value_counts(sort=False)\n",
    "labels = ['Low', 'Ordinary', 'High' ]\n",
    "data['Level of Achievement'] = pd.cut(data['Achievement'], bins=3, labels=labels)\n",
    "data['Level of Achievement']"
   ]
  },
  {
   "cell_type": "code",
   "execution_count": 10,
   "id": "837ca281",
   "metadata": {},
   "outputs": [
    {
     "data": {
      "text/plain": [
       "0        Ordinary\n",
       "1        Ordinary\n",
       "2          Strong\n",
       "3        Ordinary\n",
       "4        Ordinary\n",
       "           ...   \n",
       "15967      Strong\n",
       "15968    Ordinary\n",
       "15969      Strong\n",
       "15970      Strong\n",
       "15971    Ordinary\n",
       "Name: Level of Social Connection, Length: 15972, dtype: category\n",
       "Categories (3, object): ['Weak' < 'Ordinary' < 'Strong']"
      ]
     },
     "execution_count": 10,
     "metadata": {},
     "output_type": "execute_result"
    }
   ],
   "source": [
    "pd.cut(data['Social Connection'], bins=3).value_counts(sort=False)\n",
    "labels = ['Weak', 'Ordinary', 'Strong']\n",
    "data['Level of Social Connection'] = pd.cut(data['Social Connection'], bins=3, labels = labels)\n",
    "data['Level of Social Connection']"
   ]
  },
  {
   "cell_type": "code",
   "execution_count": 11,
   "id": "6f479629",
   "metadata": {},
   "outputs": [
    {
     "name": "stdout",
     "output_type": "stream",
     "text": [
      "                         FRUITS_VEGGIES  PLACES_VISITED  CORE_CIRCLE  \\\n",
      "FRUITS_VEGGIES                 1.000000        0.254889     0.157774   \n",
      "PLACES_VISITED                 0.254889        1.000000     0.255877   \n",
      "CORE_CIRCLE                    0.157774        0.255877     1.000000   \n",
      "SUPPORTING_OTHERS              0.204461        0.237847     0.337718   \n",
      "SOCIAL_NETWORK                 0.106941        0.149253     0.308657   \n",
      "ACHIEVEMENT                    0.162902        0.257917     0.289417   \n",
      "DONATION                       0.199457        0.204478     0.221758   \n",
      "BMI_RANGE                     -0.092967       -0.108139    -0.026055   \n",
      "TODO_COMPLETED                 0.227005        0.227652     0.224361   \n",
      "FLOW                           0.133073        0.138559     0.237885   \n",
      "DAILY_STEPS                    0.251213        0.196110     0.148006   \n",
      "LIVE_VISION                    0.110105        0.143699     0.219937   \n",
      "SLEEP_HOURS                    0.103627        0.127311     0.066388   \n",
      "LOST_VACATION                 -0.074100       -0.129300    -0.080940   \n",
      "DAILY_SHOUTING                -0.072916       -0.092050    -0.066530   \n",
      "SUFFICIENT_INCOME              0.148239        0.176612     0.123063   \n",
      "PERSONAL_AWARDS                0.167818        0.269582     0.253846   \n",
      "TIME_FOR_PASSION               0.164572        0.177729     0.227632   \n",
      "WEEKLY_MEDITATION              0.196087        0.209342     0.105337   \n",
      "WORK_LIFE_BALANCE_SCORE        0.452255        0.529615     0.507541   \n",
      "Productivity                   0.226144        0.229782     0.285865   \n",
      "Social Connection              0.162245        0.247566     0.790784   \n",
      "Meaning                        0.241544        0.263402     0.330235   \n",
      "Achievement                    0.197941        0.315847     0.323661   \n",
      "\n",
      "                         SUPPORTING_OTHERS  SOCIAL_NETWORK  ACHIEVEMENT  \\\n",
      "FRUITS_VEGGIES                    0.204461        0.106941     0.162902   \n",
      "PLACES_VISITED                    0.237847        0.149253     0.257917   \n",
      "CORE_CIRCLE                       0.337718        0.308657     0.289417   \n",
      "SUPPORTING_OTHERS                 1.000000        0.316265     0.360086   \n",
      "SOCIAL_NETWORK                    0.316265        1.000000     0.249040   \n",
      "ACHIEVEMENT                       0.360086        0.249040     1.000000   \n",
      "DONATION                          0.393212        0.156867     0.233713   \n",
      "BMI_RANGE                         0.038655        0.019927    -0.019670   \n",
      "TODO_COMPLETED                    0.256691        0.204437     0.304973   \n",
      "FLOW                              0.278600        0.244724     0.386572   \n",
      "DAILY_STEPS                       0.147592        0.215797     0.185947   \n",
      "LIVE_VISION                       0.236693        0.182483     0.320673   \n",
      "SLEEP_HOURS                       0.007051       -0.029722     0.045240   \n",
      "LOST_VACATION                    -0.018090        0.016641     0.000771   \n",
      "DAILY_SHOUTING                   -0.048353       -0.000102    -0.044503   \n",
      "SUFFICIENT_INCOME                 0.113384        0.123675     0.113791   \n",
      "PERSONAL_AWARDS                   0.332744        0.209119     0.396186   \n",
      "TIME_FOR_PASSION                  0.327846        0.200631     0.368939   \n",
      "WEEKLY_MEDITATION                 0.144171       -0.006708     0.164670   \n",
      "WORK_LIFE_BALANCE_SCORE           0.548851        0.412586     0.561244   \n",
      "Productivity                      0.330830        0.276872     0.425635   \n",
      "Social Connection                 0.403505        0.826290     0.331642   \n",
      "Meaning                           0.809716        0.276832     0.350363   \n",
      "Achievement                       0.413385        0.272619     0.814312   \n",
      "\n",
      "                         DONATION  BMI_RANGE  TODO_COMPLETED      FLOW  ...  \\\n",
      "FRUITS_VEGGIES           0.199457  -0.092967        0.227005  0.133073  ...   \n",
      "PLACES_VISITED           0.204478  -0.108139        0.227652  0.138559  ...   \n",
      "CORE_CIRCLE              0.221758  -0.026055        0.224361  0.237885  ...   \n",
      "SUPPORTING_OTHERS        0.393212   0.038655        0.256691  0.278600  ...   \n",
      "SOCIAL_NETWORK           0.156867   0.019927        0.204437  0.244724  ...   \n",
      "ACHIEVEMENT              0.233713  -0.019670        0.304973  0.386572  ...   \n",
      "DONATION                 1.000000   0.064630        0.193843  0.172625  ...   \n",
      "BMI_RANGE                0.064630   1.000000       -0.061498  0.026909  ...   \n",
      "TODO_COMPLETED           0.193843  -0.061498        1.000000  0.301271  ...   \n",
      "FLOW                     0.172625   0.026909        0.301271  1.000000  ...   \n",
      "DAILY_STEPS              0.113417  -0.131451        0.200432  0.143737  ...   \n",
      "LIVE_VISION              0.164831   0.000070        0.269874  0.305978  ...   \n",
      "SLEEP_HOURS             -0.001410  -0.098215        0.113609  0.029893  ...   \n",
      "LOST_VACATION           -0.022135   0.036822       -0.078463  0.006212  ...   \n",
      "DAILY_SHOUTING          -0.046957   0.060412       -0.135584 -0.062331  ...   \n",
      "SUFFICIENT_INCOME        0.120625  -0.011816        0.203842  0.077805  ...   \n",
      "PERSONAL_AWARDS          0.277812   0.019109        0.247062  0.221226  ...   \n",
      "TIME_FOR_PASSION         0.193160  -0.006108        0.274471  0.483433  ...   \n",
      "WEEKLY_MEDITATION        0.144073  -0.078286        0.182552  0.140836  ...   \n",
      "WORK_LIFE_BALANCE_SCORE  0.458829  -0.251988        0.545503  0.478199  ...   \n",
      "Productivity             0.227692  -0.024354        0.829160  0.782840  ...   \n",
      "Social Connection        0.232262  -0.002605        0.264416  0.298349  ...   \n",
      "Meaning                  0.857942   0.062848        0.267145  0.265844  ...   \n",
      "Achievement              0.307402   0.000989        0.328144  0.357822  ...   \n",
      "\n",
      "                         DAILY_SHOUTING  SUFFICIENT_INCOME  PERSONAL_AWARDS  \\\n",
      "FRUITS_VEGGIES                -0.072916           0.148239         0.167818   \n",
      "PLACES_VISITED                -0.092050           0.176612         0.269582   \n",
      "CORE_CIRCLE                   -0.066530           0.123063         0.253846   \n",
      "SUPPORTING_OTHERS             -0.048353           0.113384         0.332744   \n",
      "SOCIAL_NETWORK                -0.000102           0.123675         0.209119   \n",
      "ACHIEVEMENT                   -0.044503           0.113791         0.396186   \n",
      "DONATION                      -0.046957           0.120625         0.277812   \n",
      "BMI_RANGE                      0.060412          -0.011816         0.019109   \n",
      "TODO_COMPLETED                -0.135584           0.203842         0.247062   \n",
      "FLOW                          -0.062331           0.077805         0.221226   \n",
      "DAILY_STEPS                   -0.032348           0.103874         0.142087   \n",
      "LIVE_VISION                   -0.067947           0.122374         0.208228   \n",
      "SLEEP_HOURS                   -0.077884           0.045306         0.011435   \n",
      "LOST_VACATION                  0.091894          -0.082472        -0.029222   \n",
      "DAILY_SHOUTING                 1.000000          -0.077592        -0.034298   \n",
      "SUFFICIENT_INCOME             -0.077592           1.000000         0.151879   \n",
      "PERSONAL_AWARDS               -0.034298           0.151879         1.000000   \n",
      "TIME_FOR_PASSION              -0.094459           0.072137         0.239342   \n",
      "WEEKLY_MEDITATION             -0.097841           0.075654         0.150070   \n",
      "WORK_LIFE_BALANCE_SCORE       -0.273153           0.403561         0.504224   \n",
      "Productivity                  -0.125016           0.178629         0.290912   \n",
      "Social Connection             -0.039462           0.152460         0.284888   \n",
      "Meaning                       -0.056987           0.140340         0.363231   \n",
      "Achievement                   -0.046775           0.160174         0.855550   \n",
      "\n",
      "                         TIME_FOR_PASSION  WEEKLY_MEDITATION  \\\n",
      "FRUITS_VEGGIES                   0.164572           0.196087   \n",
      "PLACES_VISITED                   0.177729           0.209342   \n",
      "CORE_CIRCLE                      0.227632           0.105337   \n",
      "SUPPORTING_OTHERS                0.327846           0.144171   \n",
      "SOCIAL_NETWORK                   0.200631          -0.006708   \n",
      "ACHIEVEMENT                      0.368939           0.164670   \n",
      "DONATION                         0.193160           0.144073   \n",
      "BMI_RANGE                       -0.006108          -0.078286   \n",
      "TODO_COMPLETED                   0.274471           0.182552   \n",
      "FLOW                             0.483433           0.140836   \n",
      "DAILY_STEPS                      0.139917           0.148136   \n",
      "LIVE_VISION                      0.316599           0.149901   \n",
      "SLEEP_HOURS                      0.061556           0.163210   \n",
      "LOST_VACATION                   -0.017594          -0.122223   \n",
      "DAILY_SHOUTING                  -0.094459          -0.097841   \n",
      "SUFFICIENT_INCOME                0.072137           0.075654   \n",
      "PERSONAL_AWARDS                  0.239342           0.150070   \n",
      "TIME_FOR_PASSION                 1.000000           0.191807   \n",
      "WEEKLY_MEDITATION                0.191807           1.000000   \n",
      "WORK_LIFE_BALANCE_SCORE          0.516967           0.416171   \n",
      "Productivity                     0.462516           0.201687   \n",
      "Social Connection                0.263904           0.058059   \n",
      "Meaning                          0.306467           0.172508   \n",
      "Achievement                      0.359332           0.187718   \n",
      "\n",
      "                         WORK_LIFE_BALANCE_SCORE  Productivity  \\\n",
      "FRUITS_VEGGIES                          0.452255      0.226144   \n",
      "PLACES_VISITED                          0.529615      0.229782   \n",
      "CORE_CIRCLE                             0.507541      0.285865   \n",
      "SUPPORTING_OTHERS                       0.548851      0.330830   \n",
      "SOCIAL_NETWORK                          0.412586      0.276872   \n",
      "ACHIEVEMENT                             0.561244      0.425635   \n",
      "DONATION                                0.458829      0.227692   \n",
      "BMI_RANGE                              -0.251988     -0.024354   \n",
      "TODO_COMPLETED                          0.545503      0.829160   \n",
      "FLOW                                    0.478199      0.782840   \n",
      "DAILY_STEPS                             0.422981      0.215056   \n",
      "LIVE_VISION                             0.471311      0.355483   \n",
      "SLEEP_HOURS                             0.196395      0.091659   \n",
      "LOST_VACATION                          -0.266243     -0.047559   \n",
      "DAILY_SHOUTING                         -0.273153     -0.125016   \n",
      "SUFFICIENT_INCOME                       0.403561      0.178629   \n",
      "PERSONAL_AWARDS                         0.504224      0.290912   \n",
      "TIME_FOR_PASSION                        0.516967      0.462516   \n",
      "WEEKLY_MEDITATION                       0.416171      0.201687   \n",
      "WORK_LIFE_BALANCE_SCORE                 1.000000      0.636306   \n",
      "Productivity                            0.636306      1.000000   \n",
      "Social Connection                       0.566051      0.347449   \n",
      "Meaning                                 0.599513      0.330173   \n",
      "Achievement                             0.635212      0.423900   \n",
      "\n",
      "                         Social Connection   Meaning  Achievement  \n",
      "FRUITS_VEGGIES                    0.162245  0.241544     0.197941  \n",
      "PLACES_VISITED                    0.247566  0.263402     0.315847  \n",
      "CORE_CIRCLE                       0.790784  0.330235     0.323661  \n",
      "SUPPORTING_OTHERS                 0.403505  0.809716     0.413385  \n",
      "SOCIAL_NETWORK                    0.826290  0.276832     0.272619  \n",
      "ACHIEVEMENT                       0.331642  0.350363     0.814312  \n",
      "DONATION                          0.232262  0.857942     0.307402  \n",
      "BMI_RANGE                        -0.002605  0.062848     0.000989  \n",
      "TODO_COMPLETED                    0.264416  0.267145     0.328144  \n",
      "FLOW                              0.298349  0.265844     0.357822  \n",
      "DAILY_STEPS                       0.226512  0.154854     0.194670  \n",
      "LIVE_VISION                       0.247668  0.237454     0.312448  \n",
      "SLEEP_HOURS                       0.020185  0.003040     0.032738  \n",
      "LOST_VACATION                    -0.037220 -0.024235    -0.018038  \n",
      "DAILY_SHOUTING                   -0.039462 -0.056987    -0.046775  \n",
      "SUFFICIENT_INCOME                 0.152460  0.140340     0.160174  \n",
      "PERSONAL_AWARDS                   0.284888  0.363231     0.855550  \n",
      "TIME_FOR_PASSION                  0.263904  0.306467     0.359332  \n",
      "WEEKLY_MEDITATION                 0.058059  0.172508     0.187718  \n",
      "WORK_LIFE_BALANCE_SCORE           0.566051  0.599513     0.635212  \n",
      "Productivity                      0.347449  0.330173     0.423900  \n",
      "Social Connection                 1.000000  0.373698     0.367094  \n",
      "Meaning                           0.373698  1.000000     0.427175  \n",
      "Achievement                       0.367094  0.427175     1.000000  \n",
      "\n",
      "[24 rows x 24 columns]\n"
     ]
    }
   ],
   "source": [
    "corrMatrix = data.corr()\n",
    "print(corrMatrix)"
   ]
  },
  {
   "cell_type": "code",
   "execution_count": 12,
   "id": "95eaf7a9",
   "metadata": {},
   "outputs": [
    {
     "data": {
      "text/plain": [
       "<AxesSubplot:xlabel='Productivity', ylabel='Density'>"
      ]
     },
     "execution_count": 12,
     "metadata": {},
     "output_type": "execute_result"
    },
    {
     "data": {
      "image/png": "[encoded data removed]",
      "text/plain": [
       "<Figure size 432x288 with 1 Axes>"
      ]
     },
     "metadata": {
      "needs_background": "light"
     },
     "output_type": "display_data"
    }
   ],
   "source": [
    "#Exploring the dependent variables of our analysis, Productivity. \n",
    "sns.kdeplot(data['Productivity'], shade = True, label = 'Productivity')"
   ]
  },
  {
   "cell_type": "code",
   "execution_count": 49,
   "id": "797c2a48",
   "metadata": {},
   "outputs": [
    {
     "data": {
      "text/plain": [
       "<AxesSubplot:xlabel='FLOW', ylabel='Density'>"
      ]
     },
     "execution_count": 49,
     "metadata": {},
     "output_type": "execute_result"
    },
    {
     "data": {
      "image/png": "[encoded data removed]",
      "text/plain": [
       "<Figure size 432x288 with 1 Axes>"
      ]
     },
     "metadata": {
      "needs_background": "light"
     },
     "output_type": "display_data"
    }
   ],
   "source": [
    "sns.kdeplot(data['FLOW'], shade = True, label = 'Hours of Flow')"
   ]
  },
  {
   "cell_type": "code",
   "execution_count": 50,
   "id": "af0b2d20",
   "metadata": {},
   "outputs": [
    {
     "data": {
      "text/plain": [
       "<AxesSubplot:xlabel='TODO_COMPLETED', ylabel='Density'>"
      ]
     },
     "execution_count": 50,
     "metadata": {},
     "output_type": "execute_result"
    },
    {
     "data": {
      "image/png": "[encoded data removed]",
      "text/plain": [
       "<Figure size 432x288 with 1 Axes>"
      ]
     },
     "metadata": {
      "needs_background": "light"
     },
     "output_type": "display_data"
    }
   ],
   "source": [
    "sns.kdeplot(data['TODO_COMPLETED'], shade = True, label = 'Complete to-do list')"
   ]
  },
  {
   "cell_type": "code",
   "execution_count": 17,
   "id": "1376e793",
   "metadata": {},
   "outputs": [
    {
     "data": {
      "text/plain": [
       "<AxesSubplot:xlabel='GENDER', ylabel='Productivity'>"
      ]
     },
     "execution_count": 17,
     "metadata": {},
     "output_type": "execute_result"
    },
    {
     "data": {
      "image/png": "[encoded data removed]",
      "text/plain": [
       "<Figure size 432x288 with 1 Axes>"
      ]
     },
     "metadata": {
      "needs_background": "light"
     },
     "output_type": "display_data"
    }
   ],
   "source": [
    "sns.boxplot(x = 'GENDER', y = 'Productivity', data = data, palette=\"Set3\")"
   ]
  },
  {
   "cell_type": "code",
   "execution_count": 16,
   "id": "fa8ee2f4",
   "metadata": {},
   "outputs": [
    {
     "data": {
      "text/html": [
       "<div>\n",
       "<style scoped>\n",
       "    .dataframe tbody tr th:only-of-type {\n",
       "        vertical-align: middle;\n",
       "    }\n",
       "\n",
       "    .dataframe tbody tr th {\n",
       "        vertical-align: top;\n",
       "    }\n",
       "\n",
       "    .dataframe thead th {\n",
       "        text-align: right;\n",
       "    }\n",
       "</style>\n",
       "<table border=\"1\" class=\"dataframe\">\n",
       "  <thead>\n",
       "    <tr style=\"text-align: right;\">\n",
       "      <th>GENDER</th>\n",
       "      <th>Female</th>\n",
       "      <th>Male</th>\n",
       "    </tr>\n",
       "    <tr>\n",
       "      <th>AGE</th>\n",
       "      <th></th>\n",
       "      <th></th>\n",
       "    </tr>\n",
       "  </thead>\n",
       "  <tbody>\n",
       "    <tr>\n",
       "      <th>20 or less</th>\n",
       "      <td>4.413615</td>\n",
       "      <td>4.255305</td>\n",
       "    </tr>\n",
       "    <tr>\n",
       "      <th>21 to 35</th>\n",
       "      <td>4.422056</td>\n",
       "      <td>4.197117</td>\n",
       "    </tr>\n",
       "    <tr>\n",
       "      <th>36 to 50</th>\n",
       "      <td>4.593718</td>\n",
       "      <td>4.302538</td>\n",
       "    </tr>\n",
       "    <tr>\n",
       "      <th>51 or more</th>\n",
       "      <td>4.842645</td>\n",
       "      <td>4.617379</td>\n",
       "    </tr>\n",
       "  </tbody>\n",
       "</table>\n",
       "</div>"
      ],
      "text/plain": [
       "GENDER        Female      Male\n",
       "AGE                           \n",
       "20 or less  4.413615  4.255305\n",
       "21 to 35    4.422056  4.197117\n",
       "36 to 50    4.593718  4.302538\n",
       "51 or more  4.842645  4.617379"
      ]
     },
     "execution_count": 16,
     "metadata": {},
     "output_type": "execute_result"
    }
   ],
   "source": [
    "data['AGE']=data['AGE'].replace('Less than 20', '20 or less')\n",
    "data_prod = data.pivot_table(values='Productivity', index=['AGE'], columns=['GENDER'])\n",
    "data_prod\n",
    "\n",
    "#The group with the highest level of productivity is women over 51 years old\n",
    "##The group with the lowest level of productivity is men between 21 to 35 "
   ]
  },
  {
   "cell_type": "code",
   "execution_count": 19,
   "id": "f9ec162c",
   "metadata": {},
   "outputs": [
    {
     "data": {
      "image/png": "[encoded data removed]",
      "text/plain": [
       "<Figure size 432x288 with 1 Axes>"
      ]
     },
     "metadata": {
      "needs_background": "light"
     },
     "output_type": "display_data"
    }
   ],
   "source": [
    "plt.plot(data_prod)\n",
    "plt.title('Productivity by Age and Gender')\n",
    "plt.xlabel('Age Group')\n",
    "plt.ylabel('Productivity')\n",
    "plt.show()"
   ]
  },
  {
   "cell_type": "code",
   "execution_count": 23,
   "id": "f65a7eee",
   "metadata": {},
   "outputs": [
    {
     "data": {
      "text/plain": [
       "<AxesSubplot:xlabel='Level of Social Connection', ylabel='Productivity'>"
      ]
     },
     "execution_count": 23,
     "metadata": {},
     "output_type": "execute_result"
    },
    {
     "data": {
      "image/png": "[encoded data removed]",
      "text/plain": [
       "<Figure size 432x288 with 1 Axes>"
      ]
     },
     "metadata": {
      "needs_background": "light"
     },
     "output_type": "display_data"
    }
   ],
   "source": [
    "#Exploring the relashionship between Productivity and Social Connection \n",
    "sns.boxplot(x = 'Level of Social Connection', y = 'Productivity', data = data, palette=\"Set3\")\n",
    "\n",
    "#We can clearly see that people with strong social connection are more productive on average. "
   ]
  },
  {
   "cell_type": "code",
   "execution_count": 39,
   "id": "16dd65f9",
   "metadata": {},
   "outputs": [
    {
     "data": {
      "text/plain": [
       "<seaborn.axisgrid.FacetGrid at 0x7fb973d46550>"
      ]
     },
     "execution_count": 39,
     "metadata": {},
     "output_type": "execute_result"
    },
    {
     "data": {
      "image/png": "[encoded data removed]",
      "text/plain": [
       "<Figure size 499.375x360 with 1 Axes>"
      ]
     },
     "metadata": {
      "needs_background": "light"
     },
     "output_type": "display_data"
    }
   ],
   "source": [
    "sns.displot(data, x='Productivity', hue='Level of Social Connection', kind=\"kde\", fill=True)"
   ]
  },
  {
   "cell_type": "code",
   "execution_count": 24,
   "id": "5ecf9cbb",
   "metadata": {},
   "outputs": [
    {
     "data": {
      "text/html": [
       "<div>\n",
       "<style scoped>\n",
       "    .dataframe tbody tr th:only-of-type {\n",
       "        vertical-align: middle;\n",
       "    }\n",
       "\n",
       "    .dataframe tbody tr th {\n",
       "        vertical-align: top;\n",
       "    }\n",
       "\n",
       "    .dataframe thead th {\n",
       "        text-align: right;\n",
       "    }\n",
       "</style>\n",
       "<table border=\"1\" class=\"dataframe\">\n",
       "  <thead>\n",
       "    <tr style=\"text-align: right;\">\n",
       "      <th></th>\n",
       "      <th>Weak Social Connection</th>\n",
       "      <th>Ordinary Social Connection</th>\n",
       "      <th>Strong Social Connection</th>\n",
       "    </tr>\n",
       "  </thead>\n",
       "  <tbody>\n",
       "    <tr>\n",
       "      <th>count</th>\n",
       "      <td>2354.000000</td>\n",
       "      <td>7201.000000</td>\n",
       "      <td>6417.000000</td>\n",
       "    </tr>\n",
       "    <tr>\n",
       "      <th>mean</th>\n",
       "      <td>3.259983</td>\n",
       "      <td>4.262741</td>\n",
       "      <td>5.147421</td>\n",
       "    </tr>\n",
       "    <tr>\n",
       "      <th>std</th>\n",
       "      <td>1.916875</td>\n",
       "      <td>1.875163</td>\n",
       "      <td>1.930225</td>\n",
       "    </tr>\n",
       "    <tr>\n",
       "      <th>min</th>\n",
       "      <td>0.000000</td>\n",
       "      <td>0.000000</td>\n",
       "      <td>0.000000</td>\n",
       "    </tr>\n",
       "    <tr>\n",
       "      <th>25%</th>\n",
       "      <td>2.000000</td>\n",
       "      <td>3.000000</td>\n",
       "      <td>4.000000</td>\n",
       "    </tr>\n",
       "    <tr>\n",
       "      <th>50%</th>\n",
       "      <td>3.000000</td>\n",
       "      <td>4.500000</td>\n",
       "      <td>5.000000</td>\n",
       "    </tr>\n",
       "    <tr>\n",
       "      <th>75%</th>\n",
       "      <td>4.500000</td>\n",
       "      <td>5.500000</td>\n",
       "      <td>6.500000</td>\n",
       "    </tr>\n",
       "    <tr>\n",
       "      <th>max</th>\n",
       "      <td>10.000000</td>\n",
       "      <td>10.000000</td>\n",
       "      <td>10.000000</td>\n",
       "    </tr>\n",
       "  </tbody>\n",
       "</table>\n",
       "</div>"
      ],
      "text/plain": [
       "       Weak Social Connection  Ordinary Social Connection  \\\n",
       "count             2354.000000                 7201.000000   \n",
       "mean                 3.259983                    4.262741   \n",
       "std                  1.916875                    1.875163   \n",
       "min                  0.000000                    0.000000   \n",
       "25%                  2.000000                    3.000000   \n",
       "50%                  3.000000                    4.500000   \n",
       "75%                  4.500000                    5.500000   \n",
       "max                 10.000000                   10.000000   \n",
       "\n",
       "       Strong Social Connection  \n",
       "count               6417.000000  \n",
       "mean                   5.147421  \n",
       "std                    1.930225  \n",
       "min                    0.000000  \n",
       "25%                    4.000000  \n",
       "50%                    5.000000  \n",
       "75%                    6.500000  \n",
       "max                   10.000000  "
      ]
     },
     "execution_count": 24,
     "metadata": {},
     "output_type": "execute_result"
    }
   ],
   "source": [
    "## ONE-WAY ANOVA\n",
    "\n",
    "data_anova=pd.DataFrame({'Weak Social Connection':data[data['Level of Social Connection']=='Weak']['Productivity'],\n",
    "                 'Ordinary Social Connection':data[data['Level of Social Connection']=='Ordinary']['Productivity'],\n",
    "                 'Strong Social Connection':data[data['Level of Social Connection']=='Strong']['Productivity'],\n",
    "                 })\n",
    "data_anova.describe()"
   ]
  },
  {
   "cell_type": "code",
   "execution_count": 25,
   "id": "48dbcc07",
   "metadata": {},
   "outputs": [],
   "source": [
    "#One of our ANOVA test’s assumptions is that samples should be randomly selected and should be close to Gaussian Distribution. \n",
    "#Here I select 10 random samples from each factor or level:\n",
    "\n",
    "np.random.seed(1234)\n",
    "dataNew=pd.DataFrame({'Weak Social Connection':random.sample(list(data['Productivity'][data['Level of Social Connection']=='Weak']), 10),\n",
    "'Ordinary Social Connection':random.sample(list(data['Productivity'][data['Level of Social Connection']=='Ordinary']), 10),\n",
    "'Strong Social Connection':random.sample(list(data['Productivity'][data['Level of Social Connection']=='Strong']), 10),\n",
    "})"
   ]
  },
  {
   "cell_type": "code",
   "execution_count": 26,
   "id": "5ef90a32",
   "metadata": {},
   "outputs": [
    {
     "data": {
      "text/plain": [
       "<AxesSubplot:xlabel='Weak Social Connection', ylabel='Density'>"
      ]
     },
     "execution_count": 26,
     "metadata": {},
     "output_type": "execute_result"
    },
    {
     "data": {
      "image/png": "[encoded data removed]",
      "text/plain": [
       "<Figure size 432x288 with 1 Axes>"
      ]
     },
     "metadata": {
      "needs_background": "light"
     },
     "output_type": "display_data"
    }
   ],
   "source": [
    "sns.kdeplot(dataNew['Weak Social Connection'], shade = True, label = 'Productivity')"
   ]
  },
  {
   "cell_type": "code",
   "execution_count": 27,
   "id": "e64154d1",
   "metadata": {},
   "outputs": [
    {
     "data": {
      "text/plain": [
       "<AxesSubplot:xlabel='Ordinary Social Connection', ylabel='Density'>"
      ]
     },
     "execution_count": 27,
     "metadata": {},
     "output_type": "execute_result"
    },
    {
     "data": {
      "image/png": "[encoded data removed]",
      "text/plain": [
       "<Figure size 432x288 with 1 Axes>"
      ]
     },
     "metadata": {
      "needs_background": "light"
     },
     "output_type": "display_data"
    }
   ],
   "source": [
    "sns.kdeplot(dataNew['Ordinary Social Connection'], shade = True, label = 'Productivity')"
   ]
  },
  {
   "cell_type": "code",
   "execution_count": 28,
   "id": "1d37fd9c",
   "metadata": {},
   "outputs": [
    {
     "data": {
      "text/plain": [
       "<AxesSubplot:xlabel='Strong Social Connection', ylabel='Density'>"
      ]
     },
     "execution_count": 28,
     "metadata": {},
     "output_type": "execute_result"
    },
    {
     "data": {
      "image/png": "[encoded data removed]",
      "text/plain": [
       "<Figure size 432x288 with 1 Axes>"
      ]
     },
     "metadata": {
      "needs_background": "light"
     },
     "output_type": "display_data"
    }
   ],
   "source": [
    "sns.kdeplot(dataNew['Strong Social Connection'], shade = True, label = 'Productivity')"
   ]
  },
  {
   "cell_type": "code",
   "execution_count": null,
   "id": "36d0e352",
   "metadata": {},
   "outputs": [],
   "source": [
    "#The groups seem to be close to Gaussian Distribution."
   ]
  },
  {
   "cell_type": "code",
   "execution_count": 29,
   "id": "99a9de2d",
   "metadata": {},
   "outputs": [
    {
     "name": "stdout",
     "output_type": "stream",
     "text": [
      "F-Statistic=1.782, p=0.188\n"
     ]
    }
   ],
   "source": [
    "F, p = stats.f_oneway(dataNew['Weak Social Connection'],dataNew['Ordinary Social Connection'],dataNew['Strong Social Connection'])\n",
    "# Seeing if the overall model is significant\n",
    "print('F-Statistic=%.3f, p=%.3f' % (F, p))"
   ]
  },
  {
   "cell_type": "code",
   "execution_count": 30,
   "id": "f200989b",
   "metadata": {},
   "outputs": [
    {
     "data": {
      "text/html": [
       "<table class=\"simpletable\">\n",
       "<caption>OLS Regression Results</caption>\n",
       "<tr>\n",
       "  <th>Dep. Variable:</th>      <td>Productivity</td>   <th>  R-squared:         </th> <td>   0.104</td> \n",
       "</tr>\n",
       "<tr>\n",
       "  <th>Model:</th>                   <td>OLS</td>       <th>  Adj. R-squared:    </th> <td>   0.104</td> \n",
       "</tr>\n",
       "<tr>\n",
       "  <th>Method:</th>             <td>Least Squares</td>  <th>  F-statistic:       </th> <td>   924.6</td> \n",
       "</tr>\n",
       "<tr>\n",
       "  <th>Date:</th>             <td>Fri, 15 Oct 2021</td> <th>  Prob (F-statistic):</th>  <td>  0.00</td>  \n",
       "</tr>\n",
       "<tr>\n",
       "  <th>Time:</th>                 <td>16:00:15</td>     <th>  Log-Likelihood:    </th> <td> -32944.</td> \n",
       "</tr>\n",
       "<tr>\n",
       "  <th>No. Observations:</th>      <td> 15972</td>      <th>  AIC:               </th> <td>6.589e+04</td>\n",
       "</tr>\n",
       "<tr>\n",
       "  <th>Df Residuals:</th>          <td> 15969</td>      <th>  BIC:               </th> <td>6.592e+04</td>\n",
       "</tr>\n",
       "<tr>\n",
       "  <th>Df Model:</th>              <td>     2</td>      <th>                     </th>     <td> </td>    \n",
       "</tr>\n",
       "<tr>\n",
       "  <th>Covariance Type:</th>      <td>nonrobust</td>    <th>                     </th>     <td> </td>    \n",
       "</tr>\n",
       "</table>\n",
       "<table class=\"simpletable\">\n",
       "<tr>\n",
       "      <td></td>        <th>coef</th>     <th>std err</th>      <th>t</th>      <th>P>|t|</th>  <th>[0.025</th>    <th>0.975]</th>  \n",
       "</tr>\n",
       "<tr>\n",
       "  <th>const</th>    <td>    3.2600</td> <td>    0.039</td> <td>   83.088</td> <td> 0.000</td> <td>    3.183</td> <td>    3.337</td>\n",
       "</tr>\n",
       "<tr>\n",
       "  <th>Ordinary</th> <td>    1.0028</td> <td>    0.045</td> <td>   22.187</td> <td> 0.000</td> <td>    0.914</td> <td>    1.091</td>\n",
       "</tr>\n",
       "<tr>\n",
       "  <th>Strong</th>   <td>    1.8874</td> <td>    0.046</td> <td>   41.147</td> <td> 0.000</td> <td>    1.798</td> <td>    1.977</td>\n",
       "</tr>\n",
       "</table>\n",
       "<table class=\"simpletable\">\n",
       "<tr>\n",
       "  <th>Omnibus:</th>       <td>82.869</td> <th>  Durbin-Watson:     </th> <td>   1.879</td>\n",
       "</tr>\n",
       "<tr>\n",
       "  <th>Prob(Omnibus):</th> <td> 0.000</td> <th>  Jarque-Bera (JB):  </th> <td>  81.028</td>\n",
       "</tr>\n",
       "<tr>\n",
       "  <th>Skew:</th>          <td> 0.157</td> <th>  Prob(JB):          </th> <td>2.54e-18</td>\n",
       "</tr>\n",
       "<tr>\n",
       "  <th>Kurtosis:</th>      <td> 2.846</td> <th>  Cond. No.          </th> <td>    5.51</td>\n",
       "</tr>\n",
       "</table><br/><br/>Notes:<br/>[1] Standard Errors assume that the covariance matrix of the errors is correctly specified."
      ],
      "text/plain": [
       "<class 'statsmodels.iolib.summary.Summary'>\n",
       "\"\"\"\n",
       "                            OLS Regression Results                            \n",
       "==============================================================================\n",
       "Dep. Variable:           Productivity   R-squared:                       0.104\n",
       "Model:                            OLS   Adj. R-squared:                  0.104\n",
       "Method:                 Least Squares   F-statistic:                     924.6\n",
       "Date:                Fri, 15 Oct 2021   Prob (F-statistic):               0.00\n",
       "Time:                        16:00:15   Log-Likelihood:                -32944.\n",
       "No. Observations:               15972   AIC:                         6.589e+04\n",
       "Df Residuals:                   15969   BIC:                         6.592e+04\n",
       "Df Model:                           2                                         \n",
       "Covariance Type:            nonrobust                                         \n",
       "==============================================================================\n",
       "                 coef    std err          t      P>|t|      [0.025      0.975]\n",
       "------------------------------------------------------------------------------\n",
       "const          3.2600      0.039     83.088      0.000       3.183       3.337\n",
       "Ordinary       1.0028      0.045     22.187      0.000       0.914       1.091\n",
       "Strong         1.8874      0.046     41.147      0.000       1.798       1.977\n",
       "==============================================================================\n",
       "Omnibus:                       82.869   Durbin-Watson:                   1.879\n",
       "Prob(Omnibus):                  0.000   Jarque-Bera (JB):               81.028\n",
       "Skew:                           0.157   Prob(JB):                     2.54e-18\n",
       "Kurtosis:                       2.846   Cond. No.                         5.51\n",
       "==============================================================================\n",
       "\n",
       "Notes:\n",
       "[1] Standard Errors assume that the covariance matrix of the errors is correctly specified.\n",
       "\"\"\""
      ]
     },
     "execution_count": 30,
     "metadata": {},
     "output_type": "execute_result"
    }
   ],
   "source": [
    "Y = data['Productivity']\n",
    "X = data['Level of Social Connection']\n",
    "X = pd.get_dummies(X, columns = ['Level of Social Connection'], drop_first=True)\n",
    "X = sm.add_constant(X)\n",
    "model = sm.OLS(Y,X)\n",
    "results = model.fit()\n",
    "results.summary()"
   ]
  },
  {
   "cell_type": "code",
   "execution_count": 32,
   "id": "50d82cf3",
   "metadata": {},
   "outputs": [
    {
     "data": {
      "text/plain": [
       "<AxesSubplot:xlabel='Level of Productivity', ylabel='ACHIEVEMENT'>"
      ]
     },
     "execution_count": 32,
     "metadata": {},
     "output_type": "execute_result"
    },
    {
     "data": {
      "image/png": "[encoded data removed]",
      "text/plain": [
       "<Figure size 432x288 with 1 Axes>"
      ]
     },
     "metadata": {
      "needs_background": "light"
     },
     "output_type": "display_data"
    }
   ],
   "source": [
    "#Exploring the connection between Productivity and Achievement\n",
    "sns.boxplot(x = 'Level of Productivity', y = 'ACHIEVEMENT', data = data, palette=\"Set3\")"
   ]
  },
  {
   "cell_type": "code",
   "execution_count": 34,
   "id": "8d838980",
   "metadata": {},
   "outputs": [
    {
     "data": {
      "text/html": [
       "<div>\n",
       "<style scoped>\n",
       "    .dataframe tbody tr th:only-of-type {\n",
       "        vertical-align: middle;\n",
       "    }\n",
       "\n",
       "    .dataframe tbody tr th {\n",
       "        vertical-align: top;\n",
       "    }\n",
       "\n",
       "    .dataframe thead th {\n",
       "        text-align: right;\n",
       "    }\n",
       "</style>\n",
       "<table border=\"1\" class=\"dataframe\">\n",
       "  <thead>\n",
       "    <tr style=\"text-align: right;\">\n",
       "      <th>GENDER</th>\n",
       "      <th>Female</th>\n",
       "      <th>Male</th>\n",
       "    </tr>\n",
       "    <tr>\n",
       "      <th>Level of Achievement</th>\n",
       "      <th></th>\n",
       "      <th></th>\n",
       "    </tr>\n",
       "  </thead>\n",
       "  <tbody>\n",
       "    <tr>\n",
       "      <th>Low</th>\n",
       "      <td>3.636184</td>\n",
       "      <td>3.173315</td>\n",
       "    </tr>\n",
       "    <tr>\n",
       "      <th>Ordinary</th>\n",
       "      <td>4.639600</td>\n",
       "      <td>4.367938</td>\n",
       "    </tr>\n",
       "    <tr>\n",
       "      <th>High</th>\n",
       "      <td>5.586586</td>\n",
       "      <td>5.621959</td>\n",
       "    </tr>\n",
       "  </tbody>\n",
       "</table>\n",
       "</div>"
      ],
      "text/plain": [
       "GENDER                  Female      Male\n",
       "Level of Achievement                    \n",
       "Low                   3.636184  3.173315\n",
       "Ordinary              4.639600  4.367938\n",
       "High                  5.586586  5.621959"
      ]
     },
     "execution_count": 34,
     "metadata": {},
     "output_type": "execute_result"
    }
   ],
   "source": [
    "data_prod1 = data.pivot_table(values='Productivity', index=['Level of Achievement'], columns=['GENDER'])\n",
    "data_prod1"
   ]
  },
  {
   "cell_type": "code",
   "execution_count": 35,
   "id": "873b0257",
   "metadata": {},
   "outputs": [
    {
     "data": {
      "text/html": [
       "<div>\n",
       "<style scoped>\n",
       "    .dataframe tbody tr th:only-of-type {\n",
       "        vertical-align: middle;\n",
       "    }\n",
       "\n",
       "    .dataframe tbody tr th {\n",
       "        vertical-align: top;\n",
       "    }\n",
       "\n",
       "    .dataframe thead th {\n",
       "        text-align: right;\n",
       "    }\n",
       "</style>\n",
       "<table border=\"1\" class=\"dataframe\">\n",
       "  <thead>\n",
       "    <tr style=\"text-align: right;\">\n",
       "      <th>AGE</th>\n",
       "      <th>20 or less</th>\n",
       "      <th>21 to 35</th>\n",
       "      <th>36 to 50</th>\n",
       "      <th>51 or more</th>\n",
       "    </tr>\n",
       "    <tr>\n",
       "      <th>Level of Achievement</th>\n",
       "      <th></th>\n",
       "      <th></th>\n",
       "      <th></th>\n",
       "      <th></th>\n",
       "    </tr>\n",
       "  </thead>\n",
       "  <tbody>\n",
       "    <tr>\n",
       "      <th>Low</th>\n",
       "      <td>3.257653</td>\n",
       "      <td>3.359631</td>\n",
       "      <td>3.499207</td>\n",
       "      <td>3.727599</td>\n",
       "    </tr>\n",
       "    <tr>\n",
       "      <th>Ordinary</th>\n",
       "      <td>4.453634</td>\n",
       "      <td>4.482311</td>\n",
       "      <td>4.518263</td>\n",
       "      <td>4.721809</td>\n",
       "    </tr>\n",
       "    <tr>\n",
       "      <th>High</th>\n",
       "      <td>5.633949</td>\n",
       "      <td>5.531145</td>\n",
       "      <td>5.513055</td>\n",
       "      <td>5.780618</td>\n",
       "    </tr>\n",
       "  </tbody>\n",
       "</table>\n",
       "</div>"
      ],
      "text/plain": [
       "AGE                   20 or less  21 to 35  36 to 50  51 or more\n",
       "Level of Achievement                                            \n",
       "Low                     3.257653  3.359631  3.499207    3.727599\n",
       "Ordinary                4.453634  4.482311  4.518263    4.721809\n",
       "High                    5.633949  5.531145  5.513055    5.780618"
      ]
     },
     "execution_count": 35,
     "metadata": {},
     "output_type": "execute_result"
    }
   ],
   "source": [
    "data_prod1 = data.pivot_table(values='Productivity', index=['Level of Achievement'], columns=['AGE'])\n",
    "data_prod1"
   ]
  },
  {
   "cell_type": "code",
   "execution_count": 36,
   "id": "3b204858",
   "metadata": {},
   "outputs": [
    {
     "data": {
      "text/plain": [
       "<AxesSubplot:xlabel='Level of Meaning', ylabel='Productivity'>"
      ]
     },
     "execution_count": 36,
     "metadata": {},
     "output_type": "execute_result"
    },
    {
     "data": {
      "image/png": "[encoded data removed]",
      "text/plain": [
       "<Figure size 432x288 with 1 Axes>"
      ]
     },
     "metadata": {
      "needs_background": "light"
     },
     "output_type": "display_data"
    }
   ],
   "source": [
    "#Exploring the connection between Productivity and Meaning\n",
    "sns.boxplot(x = 'Level of Meaning', y = 'Productivity', data = data, palette=\"Set3\")"
   ]
  },
  {
   "cell_type": "code",
   "execution_count": 37,
   "id": "4727ac5a",
   "metadata": {},
   "outputs": [
    {
     "data": {
      "text/html": [
       "<div>\n",
       "<style scoped>\n",
       "    .dataframe tbody tr th:only-of-type {\n",
       "        vertical-align: middle;\n",
       "    }\n",
       "\n",
       "    .dataframe tbody tr th {\n",
       "        vertical-align: top;\n",
       "    }\n",
       "\n",
       "    .dataframe thead th {\n",
       "        text-align: right;\n",
       "    }\n",
       "</style>\n",
       "<table border=\"1\" class=\"dataframe\">\n",
       "  <thead>\n",
       "    <tr style=\"text-align: right;\">\n",
       "      <th>AGE</th>\n",
       "      <th>20 or less</th>\n",
       "      <th>21 to 35</th>\n",
       "      <th>36 to 50</th>\n",
       "      <th>51 or more</th>\n",
       "    </tr>\n",
       "    <tr>\n",
       "      <th>Level of Meaning</th>\n",
       "      <th></th>\n",
       "      <th></th>\n",
       "      <th></th>\n",
       "      <th></th>\n",
       "    </tr>\n",
       "  </thead>\n",
       "  <tbody>\n",
       "    <tr>\n",
       "      <th>Weak</th>\n",
       "      <td>3.410088</td>\n",
       "      <td>3.521684</td>\n",
       "      <td>3.534729</td>\n",
       "      <td>3.574903</td>\n",
       "    </tr>\n",
       "    <tr>\n",
       "      <th>Ordinary</th>\n",
       "      <td>4.737550</td>\n",
       "      <td>4.454998</td>\n",
       "      <td>4.393030</td>\n",
       "      <td>4.457143</td>\n",
       "    </tr>\n",
       "    <tr>\n",
       "      <th>Strong</th>\n",
       "      <td>5.246173</td>\n",
       "      <td>5.059873</td>\n",
       "      <td>5.025420</td>\n",
       "      <td>5.318622</td>\n",
       "    </tr>\n",
       "  </tbody>\n",
       "</table>\n",
       "</div>"
      ],
      "text/plain": [
       "AGE               20 or less  21 to 35  36 to 50  51 or more\n",
       "Level of Meaning                                            \n",
       "Weak                3.410088  3.521684  3.534729    3.574903\n",
       "Ordinary            4.737550  4.454998  4.393030    4.457143\n",
       "Strong              5.246173  5.059873  5.025420    5.318622"
      ]
     },
     "execution_count": 37,
     "metadata": {},
     "output_type": "execute_result"
    }
   ],
   "source": [
    "data_prod2 = data.pivot_table(values='Productivity', index=['Level of Meaning'], columns=['AGE'])\n",
    "data_prod2"
   ]
  },
  {
   "cell_type": "code",
   "execution_count": 38,
   "id": "80ae863f",
   "metadata": {},
   "outputs": [
    {
     "data": {
      "text/plain": [
       "<AxesSubplot:xlabel='Level of Productivity', ylabel='TIME_FOR_PASSION'>"
      ]
     },
     "execution_count": 38,
     "metadata": {},
     "output_type": "execute_result"
    },
    {
     "data": {
      "image/png": "[encoded data removed]",
      "text/plain": [
       "<Figure size 432x288 with 1 Axes>"
      ]
     },
     "metadata": {
      "needs_background": "light"
     },
     "output_type": "display_data"
    }
   ],
   "source": [
    "#Exploring the connection between Productivity and TIME_FOR_PASSION\n",
    "sns.boxplot(x = 'Level of Productivity', y = 'TIME_FOR_PASSION', data = data, palette=\"Set3\")"
   ]
  },
  {
   "cell_type": "code",
   "execution_count": 40,
   "id": "22903c3c",
   "metadata": {},
   "outputs": [
    {
     "data": {
      "text/html": [
       "<div>\n",
       "<style scoped>\n",
       "    .dataframe tbody tr th:only-of-type {\n",
       "        vertical-align: middle;\n",
       "    }\n",
       "\n",
       "    .dataframe tbody tr th {\n",
       "        vertical-align: top;\n",
       "    }\n",
       "\n",
       "    .dataframe thead th {\n",
       "        text-align: right;\n",
       "    }\n",
       "</style>\n",
       "<table border=\"1\" class=\"dataframe\">\n",
       "  <thead>\n",
       "    <tr style=\"text-align: right;\">\n",
       "      <th>GENDER</th>\n",
       "      <th>Female</th>\n",
       "      <th>Male</th>\n",
       "    </tr>\n",
       "    <tr>\n",
       "      <th>AGE</th>\n",
       "      <th></th>\n",
       "      <th></th>\n",
       "    </tr>\n",
       "  </thead>\n",
       "  <tbody>\n",
       "    <tr>\n",
       "      <th>20 or less</th>\n",
       "      <td>3.045070</td>\n",
       "      <td>2.347480</td>\n",
       "    </tr>\n",
       "    <tr>\n",
       "      <th>21 to 35</th>\n",
       "      <td>2.992375</td>\n",
       "      <td>2.569758</td>\n",
       "    </tr>\n",
       "    <tr>\n",
       "      <th>36 to 50</th>\n",
       "      <td>2.948666</td>\n",
       "      <td>2.799292</td>\n",
       "    </tr>\n",
       "    <tr>\n",
       "      <th>51 or more</th>\n",
       "      <td>2.728939</td>\n",
       "      <td>2.418562</td>\n",
       "    </tr>\n",
       "  </tbody>\n",
       "</table>\n",
       "</div>"
      ],
      "text/plain": [
       "GENDER        Female      Male\n",
       "AGE                           \n",
       "20 or less  3.045070  2.347480\n",
       "21 to 35    2.992375  2.569758\n",
       "36 to 50    2.948666  2.799292\n",
       "51 or more  2.728939  2.418562"
      ]
     },
     "execution_count": 40,
     "metadata": {},
     "output_type": "execute_result"
    }
   ],
   "source": [
    "#Exploring the connection between Productivity and DAILY_STRESS\n",
    "data['DAILY_STRESS']=pd.to_numeric(data['DAILY_STRESS'],errors = 'coerce')\n",
    "data_stress = data.pivot_table(values='DAILY_STRESS', index=['AGE'], columns=['GENDER'], )\n",
    "data_stress.head()"
   ]
  },
  {
   "cell_type": "code",
   "execution_count": 43,
   "id": "035ddb2a",
   "metadata": {},
   "outputs": [
    {
     "data": {
      "text/plain": [
       "<AxesSubplot:xlabel='Level of Productivity', ylabel='DAILY_STRESS'>"
      ]
     },
     "execution_count": 43,
     "metadata": {},
     "output_type": "execute_result"
    },
    {
     "data": {
      "image/png": "[encoded data removed]",
      "text/plain": [
       "<Figure size 432x288 with 1 Axes>"
      ]
     },
     "metadata": {
      "needs_background": "light"
     },
     "output_type": "display_data"
    }
   ],
   "source": [
    "sns.boxplot(x = 'Level of Productivity', y = 'DAILY_STRESS', data = data, palette=\"Set3\")"
   ]
  },
  {
   "cell_type": "code",
   "execution_count": 48,
   "id": "55272ff1",
   "metadata": {},
   "outputs": [
    {
     "data": {
      "text/plain": [
       "<AxesSubplot:xlabel='Level of Productivity', ylabel='LIVE_VISION'>"
      ]
     },
     "execution_count": 48,
     "metadata": {},
     "output_type": "execute_result"
    },
    {
     "data": {
      "image/png": "[encoded data removed]",
      "text/plain": [
       "<Figure size 432x288 with 1 Axes>"
      ]
     },
     "metadata": {
      "needs_background": "light"
     },
     "output_type": "display_data"
    }
   ],
   "source": [
    "#Exploring the connection between Productivity and LIVE_VISION\n",
    "sns.boxplot(x = 'Level of Productivity', y = 'LIVE_VISION', data = data, palette=\"Set3\")"
   ]
  }
 ],
 "metadata": {
  "kernelspec": {
   "display_name": "Python 3",
   "language": "python",
   "name": "python3"
  },
  "language_info": {
   "codemirror_mode": {
    "name": "ipython",
    "version": 3
   },
   "file_extension": ".py",
   "mimetype": "text/x-python",
   "name": "python",
   "nbconvert_exporter": "python",
   "pygments_lexer": "ipython3",
   "version": "3.8.8"
  }
 },
 "nbformat": 4,
 "nbformat_minor": 5
}
